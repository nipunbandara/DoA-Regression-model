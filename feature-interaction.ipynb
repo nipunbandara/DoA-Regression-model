{
 "cells": [
  {
   "cell_type": "code",
   "execution_count": 12,
   "metadata": {},
   "outputs": [
    {
     "name": "stdout",
     "output_type": "stream",
     "text": [
      "[166.10622445]\n"
     ]
    }
   ],
   "source": [
    "import pandas as pd\n",
    "from sklearn.linear_model import LinearRegression\n",
    "from sklearn.model_selection import train_test_split\n",
    "\n",
    "# Load your dataset\n",
    "df = pd.read_csv('combined-training.csv')\n",
    "\n",
    "# Assuming df contains your features and BIS is the target variable\n",
    "df['X1_X4_X5_interaction'] = df['x1'] * df['x4']\n",
    "\n",
    "# Now use the interaction term in your regression model\n",
    "X = df[['x1']]\n",
    "y = df['BIS']\n",
    "\n",
    "# Train-test split\n",
    "X_train, X_test, y_train, y_test = train_test_split(X, y, test_size=0.2, random_state=42)\n",
    "\n",
    "# Fit linear regression\n",
    "model = LinearRegression()\n",
    "model.fit(X_train, y_train)\n",
    "\n",
    "# Check coefficients and predictions\n",
    "print(model.coef_)"
   ]
  },
  {
   "cell_type": "code",
   "execution_count": 8,
   "metadata": {},
   "outputs": [
    {
     "name": "stdout",
     "output_type": "stream",
     "text": [
      "[ 1.71016834e+03  3.21197347e+02 -4.09898540e+03 -3.43885855e+02\n",
      " -4.02273124e+03 -4.14808437e+02 -7.53367453e+01  5.24534027e+02\n",
      "  1.10475898e+02 -4.17723866e+03  1.19446674e+00 -5.68110446e+01\n",
      " -5.23469928e-01 -5.31623961e+02  1.59016122e+03  2.47190006e+01\n",
      "  1.77624387e+03  7.70076155e-01  6.24797621e+02  5.62806566e+03]\n"
     ]
    }
   ],
   "source": [
    "from sklearn.preprocessing import PolynomialFeatures\n",
    "from sklearn.linear_model import LinearRegression\n",
    "from sklearn.model_selection import train_test_split\n",
    "\n",
    "# Features (X1, X4, X5, X6, X7) without interaction terms\n",
    "X = df[['x1', 'x4', 'x5', 'x6', 'x7']]\n",
    "y = df['BIS']\n",
    "\n",
    "# Create polynomial features (degree 2 includes interaction terms)\n",
    "poly = PolynomialFeatures(degree=2, interaction_only=False, include_bias=False)\n",
    "X_poly = poly.fit_transform(X)\n",
    "\n",
    "# Train-test split\n",
    "X_train, X_test, y_train, y_test = train_test_split(X_poly, y, test_size=0.2, random_state=42)\n",
    "\n",
    "# Fit linear regression model with polynomial features\n",
    "model = LinearRegression()\n",
    "model.fit(X_train, y_train)\n",
    "\n",
    "# Check coefficients and model performance\n",
    "print(model.coef_)\n"
   ]
  }
 ],
 "metadata": {
  "kernelspec": {
   "display_name": "sklearn-env",
   "language": "python",
   "name": "python3"
  },
  "language_info": {
   "codemirror_mode": {
    "name": "ipython",
    "version": 3
   },
   "file_extension": ".py",
   "mimetype": "text/x-python",
   "name": "python",
   "nbconvert_exporter": "python",
   "pygments_lexer": "ipython3",
   "version": "3.12.6"
  }
 },
 "nbformat": 4,
 "nbformat_minor": 2
}
