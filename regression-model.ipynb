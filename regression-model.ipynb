{
 "cells": [
  {
   "cell_type": "code",
   "execution_count": 2,
   "metadata": {},
   "outputs": [],
   "source": [
    "import pandas as pd\n",
    "import numpy as np\n",
    "from scipy import stats\n",
    "from sklearn.preprocessing import StandardScaler\n",
    "\n",
    "df = pd.read_csv('combined-training.csv')\n",
    "scaler = StandardScaler()\n",
    "\n",
    "# Removing outliers from X1 and X6 using IQR method\n",
    "Q1x1 = df['x1'].quantile(0.25)\n",
    "Q3x1 = df['x1'].quantile(0.75)\n",
    "IQRx1 = Q3x1 - Q1x1\n",
    "\n",
    "Q1x6 = df['x6'].quantile(0.25)\n",
    "Q3x6 = df['x6'].quantile(0.75)\n",
    "IQRx6 = Q3x6 - Q1x6\n",
    "\n",
    "df_no_outliers_iqr = df[~((df['x1'] < (Q1x1 - 1.5 * IQRx1)) | (df['x1'] > (Q3x1 + 1.5 * IQRx1)) | (df['x6'] < (Q1x6 - 1.5 * IQRx6)) | (df['x6'] > (Q3x6 + 1.5 * IQRx6)))]\n",
    "\n",
    "# Removing outliers from X2, X3, X4, X5, and X7 using Z-score method\n",
    "z_scores = np.abs(stats.zscore(df_no_outliers_iqr[['x2', 'x3', 'x4', 'x5', 'x7']]))\n",
    "df_no_outliers = df_no_outliers_iqr[(z_scores < 3).all(axis=1)]\n",
    "\n",
    "# Standardizing the data\n",
    "scaled_features = scaler.fit_transform(df_no_outliers[['x1', 'x2', 'x3', 'x4', 'x5', 'x6', 'x7']])\n",
    "\n",
    "# Creating a new DataFrame with the standardized data\n",
    "df_processed = pd.DataFrame(scaled_features, columns=['x1', 'x2', 'x3', 'x4', 'x5', 'x6', 'x7'])\n"
   ]
  }
 ],
 "metadata": {
  "kernelspec": {
   "display_name": "sklearn-env",
   "language": "python",
   "name": "python3"
  },
  "language_info": {
   "codemirror_mode": {
    "name": "ipython",
    "version": 3
   },
   "file_extension": ".py",
   "mimetype": "text/x-python",
   "name": "python",
   "nbconvert_exporter": "python",
   "pygments_lexer": "ipython3",
   "version": "3.12.6"
  }
 },
 "nbformat": 4,
 "nbformat_minor": 2
}
