{
 "cells": [
  {
   "cell_type": "code",
   "execution_count": 1,
   "metadata": {},
   "outputs": [],
   "source": [
    "import pandas as pd\n",
    "import numpy as np\n",
    "from scipy import stats\n",
    "from sklearn.preprocessing import StandardScaler\n",
    "\n",
    "df = pd.read_csv('combined-training.csv')\n",
    "scaler = StandardScaler()\n",
    "\n",
    "#Removing outliers from X2, X3, X4, X5, and X7 using Z-score method\n",
    "z_scores = np.abs(stats.zscore(df[['x1', 'x2', 'x3', 'x4', 'x5', 'x6', 'x7']]))\n",
    "df_no_outliers = df[(z_scores < 3).all(axis=1)]\n",
    "\n",
    "#Standardizing the data\n",
    "scaled_features = scaler.fit_transform(df_no_outliers[['x1', 'x2', 'x3', 'x4', 'x5', 'x6', 'x7']])\n",
    "\n",
    "#Creating a new DataFrame with the standardized data\n",
    "df_processed = pd.DataFrame(scaled_features, columns=['x1', 'x2', 'x3', 'x4', 'x5', 'x6', 'x7'])"
   ]
  },
  {
   "cell_type": "code",
   "execution_count": 2,
   "metadata": {},
   "outputs": [
    {
     "name": "stdout",
     "output_type": "stream",
     "text": [
      "  Feature  VIF value\n",
      "0      x1   5.033925\n",
      "1      x2   1.204054\n",
      "2      x3   1.000111\n",
      "3      x4   1.400975\n",
      "4      x5   1.547530\n",
      "5      x6   5.087386\n",
      "6      x7   1.530043\n"
     ]
    }
   ],
   "source": [
    "from statsmodels.stats.outliers_influence import variance_inflation_factor\n",
    "\n",
    "#Calculating VIF for each feature\n",
    "vif = pd.DataFrame()\n",
    "vif[\"Feature\"] = df_processed.columns\n",
    "vif[\"VIF value\"] = [variance_inflation_factor(df_processed.values, i) for i in range(df_processed.shape[1])]\n",
    "\n",
    "print(vif)"
   ]
  },
  {
   "cell_type": "code",
   "execution_count": 3,
   "metadata": {},
   "outputs": [
    {
     "name": "stdout",
     "output_type": "stream",
     "text": [
      "Index(['x1', 'x4', 'x5', 'x7'], dtype='object')\n"
     ]
    }
   ],
   "source": [
    "from sklearn.feature_selection import RFE\n",
    "from sklearn.linear_model import LinearRegression\n",
    "\n",
    "#Creating a linear regression model\n",
    "model = LinearRegression()\n",
    "\n",
    "#Selecting the 4 best features\n",
    "rfe = RFE(estimator=model, n_features_to_select=4)\n",
    "rfe.fit(df_processed, df_no_outliers['BIS'])\n",
    "\n",
    "#Printing the selected features\n",
    "selected_features = df_processed.columns[rfe.support_]\n",
    "print(selected_features)"
   ]
  },
  {
   "cell_type": "code",
   "execution_count": 6,
   "metadata": {},
   "outputs": [
    {
     "name": "stdout",
     "output_type": "stream",
     "text": [
      "R-squared: 0.6703\n",
      "Mean Squared Error: 135.7432\n",
      "\n",
      "Model Equation:\n",
      "DoA Index = 40.88536034603397 + (2.670220905421646 * x1) + (7.274514906369749 * x4) + (1.841585521578302 * x5) + (-4.188347205091275 * x7)\n"
     ]
    },
    {
     "name": "stderr",
     "output_type": "stream",
     "text": [
      "/opt/miniconda3/envs/sklearn-env/lib/python3.12/site-packages/sklearn/base.py:493: UserWarning: X does not have valid feature names, but LinearRegression was fitted with feature names\n",
      "  warnings.warn(\n"
     ]
    }
   ],
   "source": [
    "from sklearn.metrics import r2_score, mean_squared_error\n",
    "\n",
    "df_test = pd.read_csv('combined-test.csv')\n",
    "\n",
    "X_train = df_processed[['x1', 'x4', 'x5', 'x7']]  # Removed x6 based on multicollinearity\n",
    "Y_train = df_no_outliers['BIS']\n",
    "\n",
    "#Standardizing the test data\n",
    "X_test = scaler.fit_transform(df_test[['x1', 'x4', 'x5', 'x7']])\n",
    "Y_test = df_test['BIS']\n",
    "\n",
    "#Creating a linear regression model\n",
    "model = LinearRegression()\n",
    "model.fit(X_train, Y_train)\n",
    "\n",
    "#Predicting the test data\n",
    "Y_pred = model.predict(X_test)\n",
    "\n",
    "#Calculating R-squared and Mean Squared Error (MSE)\n",
    "r2 = r2_score(Y_test, Y_pred)\n",
    "mse = mean_squared_error(Y_test, Y_pred)\n",
    "\n",
    "print(f'R-squared: {r2:.4f}')\n",
    "print(f'Mean Squared Error: {mse:.4f}')\n",
    "\n",
    "#Calculating the coefficients and intercept of the model\n",
    "coefficients = model.coef_\n",
    "intercept = model.intercept_\n",
    "\n",
    "#Printing the model equation\n",
    "print(\"\\nModel Equation:\")\n",
    "print(f\"DoA Index = {intercept} + ({coefficients[0]} * x1) + ({coefficients[1]} * x4) + ({coefficients[2]} * x5) + ({coefficients[3]} * x7)\")"
   ]
  },
  {
   "cell_type": "code",
   "execution_count": 9,
   "metadata": {},
   "outputs": [
    {
     "name": "stdout",
     "output_type": "stream",
     "text": [
      "Pearson correlation for Regression Model : 0.8737576565768335\n"
     ]
    }
   ],
   "source": [
    "from scipy.stats import pearsonr\n",
    "\n",
    "correlation = pearsonr(Y_test, Y_pred)\n",
    "print(f\"Pearson correlation for Regression Model : {correlation[0]}\")"
   ]
  },
  {
   "cell_type": "code",
   "execution_count": null,
   "metadata": {},
   "outputs": [],
   "source": []
  }
 ],
 "metadata": {
  "kernelspec": {
   "display_name": "sklearn-env",
   "language": "python",
   "name": "python3"
  },
  "language_info": {
   "codemirror_mode": {
    "name": "ipython",
    "version": 3
   },
   "file_extension": ".py",
   "mimetype": "text/x-python",
   "name": "python",
   "nbconvert_exporter": "python",
   "pygments_lexer": "ipython3",
   "version": "3.12.6"
  }
 },
 "nbformat": 4,
 "nbformat_minor": 2
}
